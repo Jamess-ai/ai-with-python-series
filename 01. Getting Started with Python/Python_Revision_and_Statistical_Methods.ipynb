{
  "nbformat": 4,
  "nbformat_minor": 0,
  "metadata": {
    "colab": {
      "name": "Python Revision and Statistical Methods.ipynb",
      "provenance": [],
      "authorship_tag": "ABX9TyMuqF81mHPywEdWr6p0GWAU",
      "include_colab_link": true
    },
    "kernelspec": {
      "name": "python3",
      "display_name": "Python 3"
    },
    "language_info": {
      "name": "python"
    }
  },
  "cells": [
    {
      "cell_type": "markdown",
      "metadata": {
        "id": "view-in-github",
        "colab_type": "text"
      },
      "source": [
        "<a href=\"https://colab.research.google.com/github/rjrahul24/ai-with-python-series/blob/main/01.%20Getting%20Started%20with%20Python/Python_Revision_and_Statistical_Methods.ipynb\" target=\"_parent\"><img src=\"https://colab.research.google.com/assets/colab-badge.svg\" alt=\"Open In Colab\"/></a>"
      ]
    },
    {
      "cell_type": "markdown",
      "metadata": {
        "id": "jFbbabz4JycZ"
      },
      "source": [
        "**Inheritence in Python**\n",
        "\n",
        "Object Oriented Programming is a coding paradigm that revolves around creating modular code and stopping mulitple uses of the same structure. It is aimed at increasing stability and usability of code. It consists of some well-known concepts stated below:\n",
        "\n",
        "\n",
        "1.   Classes: These often show a collection of functions and attributes that are fastened to a precise name and represent an abstract container.\n",
        "2.   Attributes: Generally, the data that is associated with each class. Examples are variables declared during creation of the class.\n",
        "3. Objects: An instance generated from the class. There can be multiple objects of a class and every individual object takes on the properties of the class. "
      ]
    },
    {
      "cell_type": "code",
      "metadata": {
        "id": "Z25iPYhFJose"
      },
      "source": [
        ""
      ],
      "execution_count": null,
      "outputs": []
    },
    {
      "cell_type": "markdown",
      "metadata": {
        "id": "xDiLDOlQJxVl"
      },
      "source": [
        ""
      ]
    }
  ]
}