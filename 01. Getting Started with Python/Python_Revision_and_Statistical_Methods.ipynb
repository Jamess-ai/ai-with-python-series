{
  "nbformat": 4,
  "nbformat_minor": 0,
  "metadata": {
    "colab": {
      "name": "Python Revision and Statistical Methods.ipynb",
      "provenance": [],
      "authorship_tag": "ABX9TyMSj2Rxxj2258o8tEuEujwG",
      "include_colab_link": true
    },
    "kernelspec": {
      "name": "python3",
      "display_name": "Python 3"
    },
    "language_info": {
      "name": "python"
    }
  },
  "cells": [
    {
      "cell_type": "markdown",
      "metadata": {
        "id": "view-in-github",
        "colab_type": "text"
      },
      "source": [
        "<a href=\"https://colab.research.google.com/github/rjrahul24/ai-with-python-series/blob/main/01.%20Getting%20Started%20with%20Python/Python_Revision_and_Statistical_Methods.ipynb\" target=\"_parent\"><img src=\"https://colab.research.google.com/assets/colab-badge.svg\" alt=\"Open In Colab\"/></a>"
      ]
    },
    {
      "cell_type": "markdown",
      "metadata": {
        "id": "jFbbabz4JycZ"
      },
      "source": [
        "**Inheritence in Python**\n",
        "\n",
        "Object Oriented Programming is a coding paradigm that revolves around creating modular code and stopping mulitple uses of the same structure. It is aimed at increasing stability and usability of code. It consists of some well-known concepts stated below:\n",
        "\n",
        "\n",
        "1.   Classes: These often show a collection of functions and attributes that are fastened to a precise name and represent an abstract container.\n",
        "2.   Attributes: Generally, the data that is associated with each class. Examples are variables declared during creation of the class.\n",
        "3. Objects: An instance generated from the class. There can be multiple objects of a class and every individual object takes on the properties of the class. "
      ]
    },
    {
      "cell_type": "code",
      "metadata": {
        "id": "Z25iPYhFJose",
        "colab": {
          "base_uri": "https://localhost:8080/"
        },
        "outputId": "c42672a9-c10b-4cbd-f75e-bc415258bba8"
      },
      "source": [
        "# Implementation of Classes in Python\n",
        "# Creating a Class Math with 2 functions\n",
        "class Math:\n",
        "  def subtract (self, i, j):\n",
        "    return i-j\n",
        "  def add (self, x, y):\n",
        "    return x+y\n",
        "\n",
        "# Creating an object of the class Math\n",
        "math_child = Math()\n",
        "test_int_A = 10\n",
        "test_int_B = 20\n",
        "print(math_child.subtract(test_int_B, test_int_A))"
      ],
      "execution_count": 1,
      "outputs": [
        {
          "output_type": "stream",
          "text": [
            "10\n"
          ],
          "name": "stdout"
        }
      ]
    },
    {
      "cell_type": "code",
      "metadata": {
        "colab": {
          "base_uri": "https://localhost:8080/"
        },
        "id": "w7yEIH9rVEU3",
        "outputId": "09bf1218-ec9e-40c4-a28b-b92f3abb7663"
      },
      "source": [
        "# Creating a Class Person with an attribute and an initialization function\n",
        "class Person:\n",
        "  name = 'George'\n",
        "  def __init__ (self):\n",
        "    self.age = 34\n",
        "\n",
        "# Creating an object of the class and printing its attributes\n",
        "p1 = Person()\n",
        "print (p1.name)\n",
        "print (p1.age)"
      ],
      "execution_count": 2,
      "outputs": [
        {
          "output_type": "stream",
          "text": [
            "George\n",
            "34\n"
          ],
          "name": "stdout"
        }
      ]
    },
    {
      "cell_type": "markdown",
      "metadata": {
        "id": "xDiLDOlQJxVl"
      },
      "source": [
        "**Constructors and Inheritance**\n",
        "\n",
        "The constructor is an initialization function that is always called when a class’s instance is created. The constructor is named __init__() in Python and defines the specifics of instantiating a class and its attributes. \n",
        "Class inheritance is a concept of taking values of a class from its origin and giving the same properties to a child class. It creates relationship models like “Class A is a Class B”, like a triangle (child class) is a shape (parent class). All the functions and attributes of a superclass are inherited by the subclass. \n",
        "1.\tOverriding: During the inheritance, the behavior of the child class or the subclass can be modified. Doing this modification on functions is class “overriding” and is achieved by declaring functions in the subclass with the same name. Functions created in the subclass will take precedence over those in the parent class.\n",
        "2.\tComposition: Classes can also be built from other smaller classes that support relationship models like “Class A has a Class B”, like a Department has Students.\n",
        "3.\tPolymorphism: The functionality of similar looking functions can be changed in run-time, during their implementation. This is achieved using Polymorphism, that includes two objects of different parent class but having the same set of functions. The outward look of these functions is the same, but implementations differ.\n"
      ]
    },
    {
      "cell_type": "code",
      "metadata": {
        "id": "ZMaenLSWVn7b"
      },
      "source": [
        ""
      ],
      "execution_count": null,
      "outputs": []
    }
  ]
}